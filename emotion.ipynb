{
 "cells": [
  {
   "cell_type": "markdown",
   "metadata": {},
   "source": [
    "# Detecting human emotion from text they write"
   ]
  },
  {
   "cell_type": "markdown",
   "metadata": {},
   "source": [
    "## Loading data from files"
   ]
  },
  {
   "cell_type": "code",
   "execution_count": 1,
   "metadata": {},
   "outputs": [],
   "source": [
    "import numpy as np\n",
    "import tensorflow\n",
    "import pandas as pd"
   ]
  },
  {
   "cell_type": "code",
   "execution_count": 2,
   "metadata": {},
   "outputs": [],
   "source": [
    "with open('train.txt') as file:\n",
    "    train = file.read()\n",
    "\n",
    "with open('test.txt') as file:\n",
    "    test = file.read()\n",
    "\n",
    "with open('val.txt') as file:\n",
    "    val = file.read()\n"
   ]
  },
  {
   "cell_type": "code",
   "execution_count": 3,
   "metadata": {},
   "outputs": [],
   "source": [
    "train=train.split('\\n')\n",
    "test = test.split('\\n')\n",
    "val = val.split('\\n')"
   ]
  },
  {
   "cell_type": "code",
   "execution_count": 4,
   "metadata": {},
   "outputs": [
    {
     "data": {
      "text/plain": [
       "['i didnt feel humiliated;sadness',\n",
       " 'i can go from feeling so hopeless to so damned hopeful just from being around someone who cares and is awake;sadness',\n",
       " 'im grabbing a minute to post i feel greedy wrong;anger',\n",
       " 'i am ever feeling nostalgic about the fireplace i will know that it is still on the property;love',\n",
       " 'i am feeling grouchy;anger']"
      ]
     },
     "execution_count": 4,
     "metadata": {},
     "output_type": "execute_result"
    }
   ],
   "source": [
    "train[:5]"
   ]
  },
  {
   "cell_type": "code",
   "execution_count": 5,
   "metadata": {},
   "outputs": [],
   "source": [
    "X=[]\n",
    "y=[]\n",
    "for sentence in train:\n",
    "    s = sentence.split(';')\n",
    "    if(len(s[0])!=0 and len(s[-1])!=0):\n",
    "        X.append(s[0])\n",
    "        y.append(s[-1])\n"
   ]
  },
  {
   "cell_type": "code",
   "execution_count": 6,
   "metadata": {},
   "outputs": [
    {
     "data": {
      "text/plain": [
       "(['i didnt feel humiliated',\n",
       "  'i can go from feeling so hopeless to so damned hopeful just from being around someone who cares and is awake',\n",
       "  'im grabbing a minute to post i feel greedy wrong',\n",
       "  'i am ever feeling nostalgic about the fireplace i will know that it is still on the property',\n",
       "  'i am feeling grouchy',\n",
       "  'ive been feeling a little burdened lately wasnt sure why that was',\n",
       "  'ive been taking or milligrams or times recommended amount and ive fallen asleep a lot faster but i also feel like so funny',\n",
       "  'i feel as confused about life as a teenager or as jaded as a year old man',\n",
       "  'i have been with petronas for years i feel that petronas has performed well and made a huge profit',\n",
       "  'i feel romantic too'],\n",
       " ['sadness',\n",
       "  'sadness',\n",
       "  'anger',\n",
       "  'love',\n",
       "  'anger',\n",
       "  'sadness',\n",
       "  'surprise',\n",
       "  'fear',\n",
       "  'joy',\n",
       "  'love'])"
      ]
     },
     "execution_count": 6,
     "metadata": {},
     "output_type": "execute_result"
    }
   ],
   "source": [
    "X[:10],y[:10]"
   ]
  },
  {
   "cell_type": "code",
   "execution_count": 7,
   "metadata": {},
   "outputs": [
    {
     "data": {
      "text/plain": [
       "(16000, 16000)"
      ]
     },
     "execution_count": 7,
     "metadata": {},
     "output_type": "execute_result"
    }
   ],
   "source": [
    "len(X),len(y)"
   ]
  },
  {
   "cell_type": "code",
   "execution_count": 8,
   "metadata": {},
   "outputs": [],
   "source": [
    "for sentence in test:\n",
    "    s = sentence.split(';')\n",
    "    if(len(s[0])!=0 and len(s[-1])!=0):\n",
    "        X.append(s[0])\n",
    "        y.append(s[-1])"
   ]
  },
  {
   "cell_type": "code",
   "execution_count": 9,
   "metadata": {},
   "outputs": [],
   "source": [
    "for sentence in val:\n",
    "    s = sentence.split(';')\n",
    "    if(len(s[0])!=0 and len(s[-1])!=0):\n",
    "        X.append(s[0])\n",
    "        y.append(s[-1])"
   ]
  },
  {
   "cell_type": "code",
   "execution_count": 10,
   "metadata": {},
   "outputs": [
    {
     "data": {
      "text/plain": [
       "(20000, 20000)"
      ]
     },
     "execution_count": 10,
     "metadata": {},
     "output_type": "execute_result"
    }
   ],
   "source": [
    "len(X),len(y)"
   ]
  },
  {
   "cell_type": "code",
   "execution_count": 11,
   "metadata": {},
   "outputs": [],
   "source": [
    "from tensorflow.keras.preprocessing.text import Tokenizer"
   ]
  },
  {
   "cell_type": "code",
   "execution_count": 12,
   "metadata": {},
   "outputs": [],
   "source": [
    "tokenizer = Tokenizer()"
   ]
  },
  {
   "cell_type": "code",
   "execution_count": 13,
   "metadata": {},
   "outputs": [],
   "source": [
    "tokenizer.fit_on_texts(X)"
   ]
  },
  {
   "cell_type": "code",
   "execution_count": 14,
   "metadata": {},
   "outputs": [
    {
     "data": {
      "text/plain": [
       "17096"
      ]
     },
     "execution_count": 14,
     "metadata": {},
     "output_type": "execute_result"
    }
   ],
   "source": [
    "wordcount=len(tokenizer.word_index)\n",
    "wordcount"
   ]
  },
  {
   "cell_type": "code",
   "execution_count": 15,
   "metadata": {},
   "outputs": [],
   "source": [
    "tokenized_seq=tokenizer.texts_to_sequences(X)"
   ]
  },
  {
   "cell_type": "code",
   "execution_count": 16,
   "metadata": {},
   "outputs": [
    {
     "data": {
      "text/plain": [
       "[[1, 138, 2, 625],\n",
       " [1,\n",
       "  39,\n",
       "  101,\n",
       "  59,\n",
       "  7,\n",
       "  14,\n",
       "  522,\n",
       "  4,\n",
       "  14,\n",
       "  3128,\n",
       "  545,\n",
       "  31,\n",
       "  59,\n",
       "  61,\n",
       "  128,\n",
       "  144,\n",
       "  71,\n",
       "  1699,\n",
       "  3,\n",
       "  21,\n",
       "  1383],\n",
       " [15, 3129, 6, 1228, 4, 290, 1, 2, 495, 420],\n",
       " [1, 23, 176, 7, 678, 26, 5, 4770, 1, 57, 46, 8, 12, 21, 69, 29, 5, 3504],\n",
       " [1, 23, 7, 1040]]"
      ]
     },
     "execution_count": 16,
     "metadata": {},
     "output_type": "execute_result"
    }
   ],
   "source": [
    "tokenized_seq[:5]"
   ]
  },
  {
   "cell_type": "code",
   "execution_count": 17,
   "metadata": {},
   "outputs": [],
   "source": [
    "max_len_seq = 0\n",
    "for lst in tokenized_seq:\n",
    "    if len(lst)>max_len_seq:\n",
    "        max_len_seq = len(lst)"
   ]
  },
  {
   "cell_type": "code",
   "execution_count": 18,
   "metadata": {},
   "outputs": [
    {
     "data": {
      "text/plain": [
       "66"
      ]
     },
     "execution_count": 18,
     "metadata": {},
     "output_type": "execute_result"
    }
   ],
   "source": [
    "max_len_seq"
   ]
  },
  {
   "cell_type": "code",
   "execution_count": 19,
   "metadata": {},
   "outputs": [],
   "source": [
    "from tensorflow.keras.preprocessing.sequence import pad_sequences"
   ]
  },
  {
   "cell_type": "code",
   "execution_count": 20,
   "metadata": {},
   "outputs": [],
   "source": [
    "padded_input_sequences = pad_sequences(tokenized_seq, maxlen = 66, padding='pre')"
   ]
  },
  {
   "cell_type": "code",
   "execution_count": 21,
   "metadata": {},
   "outputs": [
    {
     "data": {
      "text/plain": [
       "array([[   0,    0,    0,    0,    0,    0,    0,    0,    0,    0,    0,\n",
       "           0,    0,    0,    0,    0,    0,    0,    0,    0,    0,    0,\n",
       "           0,    0,    0,    0,    0,    0,    0,    0,    0,    0,    0,\n",
       "           0,    0,    0,    0,    0,    0,    0,    0,    0,    0,    0,\n",
       "           0,    0,    0,    0,    0,    0,    0,    0,    0,    0,    0,\n",
       "           0,    0,    0,    0,    0,    0,    0,    1,  138,    2,  625],\n",
       "       [   0,    0,    0,    0,    0,    0,    0,    0,    0,    0,    0,\n",
       "           0,    0,    0,    0,    0,    0,    0,    0,    0,    0,    0,\n",
       "           0,    0,    0,    0,    0,    0,    0,    0,    0,    0,    0,\n",
       "           0,    0,    0,    0,    0,    0,    0,    0,    0,    0,    0,\n",
       "           0,    1,   39,  101,   59,    7,   14,  522,    4,   14, 3128,\n",
       "         545,   31,   59,   61,  128,  144,   71, 1699,    3,   21, 1383]])"
      ]
     },
     "execution_count": 21,
     "metadata": {},
     "output_type": "execute_result"
    }
   ],
   "source": [
    "padded_input_sequences[:2]"
   ]
  },
  {
   "cell_type": "code",
   "execution_count": 22,
   "metadata": {},
   "outputs": [
    {
     "data": {
      "text/plain": [
       "['sadness',\n",
       " 'sadness',\n",
       " 'anger',\n",
       " 'love',\n",
       " 'anger',\n",
       " 'sadness',\n",
       " 'surprise',\n",
       " 'fear',\n",
       " 'joy',\n",
       " 'love',\n",
       " 'sadness',\n",
       " 'joy',\n",
       " 'anger',\n",
       " 'sadness',\n",
       " 'joy',\n",
       " 'joy',\n",
       " 'sadness',\n",
       " 'sadness',\n",
       " 'sadness',\n",
       " 'fear',\n",
       " 'anger',\n",
       " 'fear',\n",
       " 'joy',\n",
       " 'joy',\n",
       " 'anger',\n",
       " 'sadness',\n",
       " 'sadness',\n",
       " 'sadness',\n",
       " 'anger',\n",
       " 'joy',\n",
       " 'joy',\n",
       " 'fear',\n",
       " 'surprise',\n",
       " 'anger',\n",
       " 'joy',\n",
       " 'joy',\n",
       " 'joy',\n",
       " 'joy',\n",
       " 'anger',\n",
       " 'joy',\n",
       " 'joy',\n",
       " 'joy',\n",
       " 'joy',\n",
       " 'joy',\n",
       " 'sadness',\n",
       " 'sadness',\n",
       " 'joy',\n",
       " 'love',\n",
       " 'joy',\n",
       " 'anger',\n",
       " 'joy',\n",
       " 'sadness',\n",
       " 'anger',\n",
       " 'fear',\n",
       " 'joy',\n",
       " 'sadness',\n",
       " 'sadness',\n",
       " 'surprise',\n",
       " 'joy',\n",
       " 'joy',\n",
       " 'joy',\n",
       " 'love',\n",
       " 'fear',\n",
       " 'fear',\n",
       " 'surprise',\n",
       " 'anger',\n",
       " 'anger',\n",
       " 'sadness',\n",
       " 'love',\n",
       " 'joy',\n",
       " 'sadness',\n",
       " 'sadness',\n",
       " 'joy',\n",
       " 'sadness',\n",
       " 'sadness',\n",
       " 'sadness',\n",
       " 'joy',\n",
       " 'joy',\n",
       " 'joy',\n",
       " 'anger',\n",
       " 'sadness',\n",
       " 'anger',\n",
       " 'anger',\n",
       " 'anger',\n",
       " 'joy',\n",
       " 'joy',\n",
       " 'joy',\n",
       " 'joy',\n",
       " 'sadness',\n",
       " 'fear',\n",
       " 'love',\n",
       " 'anger',\n",
       " 'sadness',\n",
       " 'anger',\n",
       " 'love',\n",
       " 'sadness',\n",
       " 'joy',\n",
       " 'joy',\n",
       " 'sadness',\n",
       " 'anger',\n",
       " 'love',\n",
       " 'joy',\n",
       " 'joy',\n",
       " 'joy',\n",
       " 'sadness',\n",
       " 'joy',\n",
       " 'joy',\n",
       " 'joy',\n",
       " 'joy',\n",
       " 'sadness',\n",
       " 'joy',\n",
       " 'joy',\n",
       " 'love',\n",
       " 'sadness',\n",
       " 'sadness',\n",
       " 'joy',\n",
       " 'joy',\n",
       " 'sadness',\n",
       " 'joy',\n",
       " 'joy',\n",
       " 'fear',\n",
       " 'fear',\n",
       " 'fear',\n",
       " 'sadness',\n",
       " 'love',\n",
       " 'joy',\n",
       " 'joy',\n",
       " 'love',\n",
       " 'fear',\n",
       " 'surprise',\n",
       " 'joy',\n",
       " 'joy',\n",
       " 'joy',\n",
       " 'joy',\n",
       " 'anger',\n",
       " 'fear',\n",
       " 'joy',\n",
       " 'anger',\n",
       " 'love',\n",
       " 'anger',\n",
       " 'sadness',\n",
       " 'joy',\n",
       " 'sadness',\n",
       " 'anger',\n",
       " 'joy',\n",
       " 'surprise',\n",
       " 'sadness',\n",
       " 'anger',\n",
       " 'anger',\n",
       " 'sadness',\n",
       " 'joy',\n",
       " 'fear',\n",
       " 'joy',\n",
       " 'joy',\n",
       " 'fear',\n",
       " 'sadness',\n",
       " 'surprise',\n",
       " 'surprise',\n",
       " 'joy',\n",
       " 'anger',\n",
       " 'fear',\n",
       " 'anger',\n",
       " 'sadness',\n",
       " 'anger',\n",
       " 'sadness',\n",
       " 'fear',\n",
       " 'sadness',\n",
       " 'joy',\n",
       " 'surprise',\n",
       " 'fear',\n",
       " 'joy',\n",
       " 'anger',\n",
       " 'joy',\n",
       " 'anger',\n",
       " 'joy',\n",
       " 'fear',\n",
       " 'fear',\n",
       " 'sadness',\n",
       " 'joy',\n",
       " 'joy',\n",
       " 'sadness',\n",
       " 'surprise',\n",
       " 'joy',\n",
       " 'fear',\n",
       " 'joy',\n",
       " 'sadness',\n",
       " 'joy',\n",
       " 'joy',\n",
       " 'joy',\n",
       " 'fear',\n",
       " 'joy',\n",
       " 'surprise',\n",
       " 'joy',\n",
       " 'anger',\n",
       " 'sadness',\n",
       " 'sadness',\n",
       " 'joy',\n",
       " 'anger',\n",
       " 'sadness',\n",
       " 'joy',\n",
       " 'joy',\n",
       " 'surprise',\n",
       " 'joy',\n",
       " 'fear',\n",
       " 'joy',\n",
       " 'fear',\n",
       " 'sadness',\n",
       " 'fear',\n",
       " 'love',\n",
       " 'sadness',\n",
       " 'fear',\n",
       " 'love',\n",
       " 'sadness',\n",
       " 'sadness',\n",
       " 'anger',\n",
       " 'joy',\n",
       " 'love',\n",
       " 'anger',\n",
       " 'sadness',\n",
       " 'surprise',\n",
       " 'anger',\n",
       " 'joy',\n",
       " 'sadness',\n",
       " 'anger',\n",
       " 'joy',\n",
       " 'joy',\n",
       " 'joy',\n",
       " 'joy',\n",
       " 'joy',\n",
       " 'sadness',\n",
       " 'joy',\n",
       " 'love',\n",
       " 'joy',\n",
       " 'sadness',\n",
       " 'anger',\n",
       " 'surprise',\n",
       " 'joy',\n",
       " 'anger',\n",
       " 'joy',\n",
       " 'love',\n",
       " 'sadness',\n",
       " 'sadness',\n",
       " 'joy',\n",
       " 'sadness',\n",
       " 'sadness',\n",
       " 'joy',\n",
       " 'sadness',\n",
       " 'joy',\n",
       " 'joy',\n",
       " 'joy',\n",
       " 'fear',\n",
       " 'sadness',\n",
       " 'anger',\n",
       " 'sadness',\n",
       " 'anger',\n",
       " 'love',\n",
       " 'joy',\n",
       " 'love',\n",
       " 'sadness',\n",
       " 'joy',\n",
       " 'joy',\n",
       " 'joy',\n",
       " 'sadness',\n",
       " 'joy',\n",
       " 'sadness',\n",
       " 'anger',\n",
       " 'love',\n",
       " 'sadness',\n",
       " 'love',\n",
       " 'sadness',\n",
       " 'sadness',\n",
       " 'sadness',\n",
       " 'sadness',\n",
       " 'sadness',\n",
       " 'sadness',\n",
       " 'fear',\n",
       " 'joy',\n",
       " 'sadness',\n",
       " 'sadness',\n",
       " 'joy',\n",
       " 'love',\n",
       " 'sadness',\n",
       " 'anger',\n",
       " 'sadness',\n",
       " 'love',\n",
       " 'joy',\n",
       " 'joy',\n",
       " 'joy',\n",
       " 'sadness',\n",
       " 'joy',\n",
       " 'sadness',\n",
       " 'joy',\n",
       " 'joy',\n",
       " 'joy',\n",
       " 'sadness',\n",
       " 'sadness',\n",
       " 'sadness',\n",
       " 'love',\n",
       " 'fear',\n",
       " 'sadness',\n",
       " 'fear',\n",
       " 'joy',\n",
       " 'joy',\n",
       " 'fear',\n",
       " 'joy',\n",
       " 'anger',\n",
       " 'anger',\n",
       " 'love',\n",
       " 'sadness',\n",
       " 'surprise',\n",
       " 'joy',\n",
       " 'anger',\n",
       " 'sadness',\n",
       " 'sadness',\n",
       " 'anger',\n",
       " 'love',\n",
       " 'surprise',\n",
       " 'sadness',\n",
       " 'love',\n",
       " 'joy',\n",
       " 'anger',\n",
       " 'joy',\n",
       " 'sadness',\n",
       " 'sadness',\n",
       " 'joy',\n",
       " 'joy',\n",
       " 'fear',\n",
       " 'sadness',\n",
       " 'anger',\n",
       " 'joy',\n",
       " 'love',\n",
       " 'joy',\n",
       " 'joy',\n",
       " 'joy',\n",
       " 'joy',\n",
       " 'joy',\n",
       " 'love',\n",
       " 'joy',\n",
       " 'fear',\n",
       " 'fear',\n",
       " 'joy',\n",
       " 'joy',\n",
       " 'anger',\n",
       " 'joy',\n",
       " 'joy',\n",
       " 'joy',\n",
       " 'sadness',\n",
       " 'surprise',\n",
       " 'joy',\n",
       " 'joy',\n",
       " 'sadness',\n",
       " 'surprise',\n",
       " 'joy',\n",
       " 'fear',\n",
       " 'joy',\n",
       " 'anger',\n",
       " 'love',\n",
       " 'anger',\n",
       " 'fear',\n",
       " 'surprise',\n",
       " 'joy',\n",
       " 'anger',\n",
       " 'sadness',\n",
       " 'sadness',\n",
       " 'sadness',\n",
       " 'fear',\n",
       " 'joy',\n",
       " 'fear',\n",
       " 'joy',\n",
       " 'anger',\n",
       " 'sadness',\n",
       " 'love',\n",
       " 'anger',\n",
       " 'sadness',\n",
       " 'love',\n",
       " 'love',\n",
       " 'joy',\n",
       " 'sadness',\n",
       " 'joy',\n",
       " 'joy',\n",
       " 'anger',\n",
       " 'joy',\n",
       " 'love',\n",
       " 'joy',\n",
       " 'joy',\n",
       " 'sadness',\n",
       " 'surprise',\n",
       " 'joy',\n",
       " 'joy',\n",
       " 'sadness',\n",
       " 'surprise',\n",
       " 'anger',\n",
       " 'joy',\n",
       " 'joy',\n",
       " 'love',\n",
       " 'joy',\n",
       " 'love',\n",
       " 'love',\n",
       " 'joy',\n",
       " 'sadness',\n",
       " 'joy',\n",
       " 'sadness',\n",
       " 'fear',\n",
       " 'anger',\n",
       " 'sadness',\n",
       " 'anger',\n",
       " 'joy',\n",
       " 'fear',\n",
       " 'surprise',\n",
       " 'love',\n",
       " 'sadness',\n",
       " 'sadness',\n",
       " 'joy',\n",
       " 'surprise',\n",
       " 'love',\n",
       " 'sadness',\n",
       " 'sadness',\n",
       " 'joy',\n",
       " 'fear',\n",
       " 'joy',\n",
       " 'joy',\n",
       " 'joy',\n",
       " 'love',\n",
       " 'fear',\n",
       " 'sadness',\n",
       " 'sadness',\n",
       " 'fear',\n",
       " 'love',\n",
       " 'joy',\n",
       " 'sadness',\n",
       " 'joy',\n",
       " 'sadness',\n",
       " 'joy',\n",
       " 'sadness',\n",
       " 'joy',\n",
       " 'sadness',\n",
       " 'joy',\n",
       " 'joy',\n",
       " 'anger',\n",
       " 'sadness',\n",
       " 'fear',\n",
       " 'sadness',\n",
       " 'sadness',\n",
       " 'anger',\n",
       " 'surprise',\n",
       " 'surprise',\n",
       " 'joy',\n",
       " 'surprise',\n",
       " 'fear',\n",
       " 'love',\n",
       " 'anger',\n",
       " 'joy',\n",
       " 'fear',\n",
       " 'sadness',\n",
       " 'anger',\n",
       " 'sadness',\n",
       " 'joy',\n",
       " 'fear',\n",
       " 'joy',\n",
       " 'joy',\n",
       " 'joy',\n",
       " 'joy',\n",
       " 'surprise',\n",
       " 'anger',\n",
       " 'sadness',\n",
       " 'joy',\n",
       " 'sadness',\n",
       " 'anger',\n",
       " 'love',\n",
       " 'sadness',\n",
       " 'love',\n",
       " 'anger',\n",
       " 'love',\n",
       " 'love',\n",
       " 'joy',\n",
       " 'joy',\n",
       " 'sadness',\n",
       " 'joy',\n",
       " 'sadness',\n",
       " 'joy',\n",
       " 'anger',\n",
       " 'joy',\n",
       " 'fear',\n",
       " 'sadness',\n",
       " 'joy',\n",
       " 'sadness',\n",
       " 'surprise',\n",
       " 'joy',\n",
       " 'joy',\n",
       " 'love',\n",
       " 'joy',\n",
       " 'sadness',\n",
       " 'anger',\n",
       " 'joy',\n",
       " 'sadness',\n",
       " 'sadness',\n",
       " 'sadness',\n",
       " 'joy',\n",
       " 'joy',\n",
       " 'joy',\n",
       " 'sadness',\n",
       " 'sadness',\n",
       " 'anger',\n",
       " 'anger',\n",
       " 'joy',\n",
       " 'sadness',\n",
       " 'surprise',\n",
       " 'joy',\n",
       " 'joy',\n",
       " 'sadness',\n",
       " 'anger',\n",
       " 'joy',\n",
       " 'anger',\n",
       " 'joy',\n",
       " 'joy',\n",
       " 'love',\n",
       " 'anger',\n",
       " 'joy',\n",
       " 'joy',\n",
       " 'joy',\n",
       " 'joy',\n",
       " 'joy',\n",
       " 'joy',\n",
       " 'joy',\n",
       " 'fear',\n",
       " 'joy',\n",
       " 'fear',\n",
       " 'sadness',\n",
       " 'anger',\n",
       " 'anger',\n",
       " 'sadness',\n",
       " 'love',\n",
       " 'sadness',\n",
       " 'sadness',\n",
       " 'sadness',\n",
       " 'surprise',\n",
       " 'fear',\n",
       " 'sadness',\n",
       " 'sadness',\n",
       " 'joy',\n",
       " 'fear',\n",
       " 'joy',\n",
       " 'sadness',\n",
       " 'sadness',\n",
       " 'anger',\n",
       " 'sadness',\n",
       " 'anger',\n",
       " 'anger',\n",
       " 'love',\n",
       " 'joy',\n",
       " 'joy',\n",
       " 'sadness',\n",
       " 'joy',\n",
       " 'joy',\n",
       " 'joy',\n",
       " 'love',\n",
       " 'love',\n",
       " 'love',\n",
       " 'joy',\n",
       " 'surprise',\n",
       " 'fear',\n",
       " 'sadness',\n",
       " 'anger',\n",
       " 'sadness',\n",
       " 'fear',\n",
       " 'joy',\n",
       " 'anger',\n",
       " 'joy',\n",
       " 'joy',\n",
       " 'sadness',\n",
       " 'joy',\n",
       " 'fear',\n",
       " 'joy',\n",
       " 'anger',\n",
       " 'sadness',\n",
       " 'anger',\n",
       " 'joy',\n",
       " 'love',\n",
       " 'love',\n",
       " 'sadness',\n",
       " 'fear',\n",
       " 'sadness',\n",
       " 'sadness',\n",
       " 'sadness',\n",
       " 'fear',\n",
       " 'sadness',\n",
       " 'anger',\n",
       " 'joy',\n",
       " 'joy',\n",
       " 'sadness',\n",
       " 'fear',\n",
       " 'fear',\n",
       " 'anger',\n",
       " 'anger',\n",
       " 'sadness',\n",
       " 'sadness',\n",
       " 'anger',\n",
       " 'anger',\n",
       " 'joy',\n",
       " 'fear',\n",
       " 'sadness',\n",
       " 'sadness',\n",
       " 'fear',\n",
       " 'joy',\n",
       " 'fear',\n",
       " 'sadness',\n",
       " 'sadness',\n",
       " 'joy',\n",
       " 'sadness',\n",
       " 'anger',\n",
       " 'sadness',\n",
       " 'love',\n",
       " 'surprise',\n",
       " 'joy',\n",
       " 'joy',\n",
       " 'joy',\n",
       " 'joy',\n",
       " 'joy',\n",
       " 'sadness',\n",
       " 'sadness',\n",
       " 'love',\n",
       " 'fear',\n",
       " 'anger',\n",
       " 'joy',\n",
       " 'love',\n",
       " 'joy',\n",
       " 'joy',\n",
       " 'fear',\n",
       " 'anger',\n",
       " 'fear',\n",
       " 'sadness',\n",
       " 'anger',\n",
       " 'anger',\n",
       " 'anger',\n",
       " 'fear',\n",
       " 'joy',\n",
       " 'love',\n",
       " 'anger',\n",
       " 'fear',\n",
       " 'anger',\n",
       " 'joy',\n",
       " 'fear',\n",
       " 'sadness',\n",
       " 'sadness',\n",
       " 'anger',\n",
       " 'joy',\n",
       " 'anger',\n",
       " 'fear',\n",
       " 'fear',\n",
       " 'surprise',\n",
       " 'sadness',\n",
       " 'joy',\n",
       " 'joy',\n",
       " 'joy',\n",
       " 'love',\n",
       " 'sadness',\n",
       " 'joy',\n",
       " 'sadness',\n",
       " 'anger',\n",
       " 'joy',\n",
       " 'joy',\n",
       " 'fear',\n",
       " 'fear',\n",
       " 'joy',\n",
       " 'fear',\n",
       " 'anger',\n",
       " 'anger',\n",
       " 'anger',\n",
       " 'joy',\n",
       " 'sadness',\n",
       " 'joy',\n",
       " 'joy',\n",
       " 'joy',\n",
       " 'anger',\n",
       " 'fear',\n",
       " 'anger',\n",
       " 'joy',\n",
       " 'sadness',\n",
       " 'joy',\n",
       " 'fear',\n",
       " 'joy',\n",
       " 'sadness',\n",
       " 'anger',\n",
       " 'sadness',\n",
       " 'sadness',\n",
       " 'joy',\n",
       " 'joy',\n",
       " 'sadness',\n",
       " 'love',\n",
       " 'joy',\n",
       " 'sadness',\n",
       " 'anger',\n",
       " 'love',\n",
       " 'sadness',\n",
       " 'joy',\n",
       " 'joy',\n",
       " 'fear',\n",
       " 'anger',\n",
       " 'joy',\n",
       " 'joy',\n",
       " 'love',\n",
       " 'surprise',\n",
       " 'fear',\n",
       " 'fear',\n",
       " 'anger',\n",
       " 'anger',\n",
       " 'love',\n",
       " 'sadness',\n",
       " 'sadness',\n",
       " 'joy',\n",
       " 'love',\n",
       " 'anger',\n",
       " 'joy',\n",
       " 'anger',\n",
       " 'joy',\n",
       " 'joy',\n",
       " 'joy',\n",
       " 'fear',\n",
       " 'fear',\n",
       " 'love',\n",
       " 'sadness',\n",
       " 'love',\n",
       " 'joy',\n",
       " 'joy',\n",
       " 'sadness',\n",
       " 'sadness',\n",
       " 'anger',\n",
       " 'anger',\n",
       " 'anger',\n",
       " 'anger',\n",
       " 'sadness',\n",
       " 'joy',\n",
       " 'sadness',\n",
       " 'joy',\n",
       " 'fear',\n",
       " 'sadness',\n",
       " 'joy',\n",
       " 'sadness',\n",
       " 'joy',\n",
       " 'surprise',\n",
       " 'fear',\n",
       " 'joy',\n",
       " 'joy',\n",
       " 'fear',\n",
       " 'fear',\n",
       " 'sadness',\n",
       " 'sadness',\n",
       " 'anger',\n",
       " 'sadness',\n",
       " 'love',\n",
       " 'joy',\n",
       " 'surprise',\n",
       " 'joy',\n",
       " 'surprise',\n",
       " 'joy',\n",
       " 'fear',\n",
       " 'joy',\n",
       " 'joy',\n",
       " 'joy',\n",
       " 'joy',\n",
       " 'surprise',\n",
       " 'love',\n",
       " 'sadness',\n",
       " 'love',\n",
       " 'joy',\n",
       " 'sadness',\n",
       " 'joy',\n",
       " 'joy',\n",
       " 'sadness',\n",
       " 'joy',\n",
       " 'joy',\n",
       " 'joy',\n",
       " 'joy',\n",
       " 'fear',\n",
       " 'fear',\n",
       " 'fear',\n",
       " 'fear',\n",
       " 'anger',\n",
       " 'love',\n",
       " 'sadness',\n",
       " 'joy',\n",
       " 'joy',\n",
       " 'sadness',\n",
       " 'sadness',\n",
       " 'sadness',\n",
       " 'sadness',\n",
       " 'joy',\n",
       " 'sadness',\n",
       " 'sadness',\n",
       " 'fear',\n",
       " 'joy',\n",
       " 'anger',\n",
       " 'joy',\n",
       " 'joy',\n",
       " 'fear',\n",
       " 'anger',\n",
       " 'joy',\n",
       " 'anger',\n",
       " 'anger',\n",
       " 'anger',\n",
       " 'anger',\n",
       " 'anger',\n",
       " 'joy',\n",
       " 'fear',\n",
       " 'sadness',\n",
       " 'love',\n",
       " 'sadness',\n",
       " 'fear',\n",
       " 'love',\n",
       " 'joy',\n",
       " 'surprise',\n",
       " 'joy',\n",
       " 'joy',\n",
       " 'joy',\n",
       " 'joy',\n",
       " 'sadness',\n",
       " 'surprise',\n",
       " 'joy',\n",
       " 'anger',\n",
       " 'anger',\n",
       " 'anger',\n",
       " 'joy',\n",
       " 'joy',\n",
       " 'sadness',\n",
       " 'love',\n",
       " 'sadness',\n",
       " 'joy',\n",
       " 'anger',\n",
       " 'anger',\n",
       " 'anger',\n",
       " 'fear',\n",
       " 'joy',\n",
       " 'joy',\n",
       " 'fear',\n",
       " 'sadness',\n",
       " 'surprise',\n",
       " 'joy',\n",
       " 'love',\n",
       " 'sadness',\n",
       " 'joy',\n",
       " 'joy',\n",
       " 'sadness',\n",
       " 'sadness',\n",
       " 'sadness',\n",
       " 'anger',\n",
       " 'joy',\n",
       " 'sadness',\n",
       " 'sadness',\n",
       " 'sadness',\n",
       " 'sadness',\n",
       " 'joy',\n",
       " 'surprise',\n",
       " 'joy',\n",
       " 'anger',\n",
       " 'love',\n",
       " 'joy',\n",
       " 'anger',\n",
       " 'sadness',\n",
       " 'joy',\n",
       " 'anger',\n",
       " 'sadness',\n",
       " 'fear',\n",
       " 'fear',\n",
       " 'sadness',\n",
       " 'sadness',\n",
       " 'fear',\n",
       " 'sadness',\n",
       " 'love',\n",
       " 'fear',\n",
       " 'joy',\n",
       " 'joy',\n",
       " 'fear',\n",
       " 'joy',\n",
       " 'anger',\n",
       " 'joy',\n",
       " 'joy',\n",
       " 'anger',\n",
       " 'joy',\n",
       " 'joy',\n",
       " 'love',\n",
       " 'anger',\n",
       " 'joy',\n",
       " 'joy',\n",
       " 'joy',\n",
       " 'anger',\n",
       " 'joy',\n",
       " 'love',\n",
       " 'fear',\n",
       " 'anger',\n",
       " 'love',\n",
       " 'sadness',\n",
       " 'fear',\n",
       " 'sadness',\n",
       " 'sadness',\n",
       " 'love',\n",
       " 'joy',\n",
       " 'fear',\n",
       " 'love',\n",
       " 'joy',\n",
       " 'joy',\n",
       " 'sadness',\n",
       " 'joy',\n",
       " 'sadness',\n",
       " 'fear',\n",
       " 'joy',\n",
       " 'sadness',\n",
       " 'love',\n",
       " 'sadness',\n",
       " 'love',\n",
       " 'sadness',\n",
       " 'sadness',\n",
       " 'anger',\n",
       " 'love',\n",
       " 'anger',\n",
       " 'joy',\n",
       " 'anger',\n",
       " 'sadness',\n",
       " 'sadness',\n",
       " 'joy',\n",
       " 'joy',\n",
       " 'anger',\n",
       " 'sadness',\n",
       " 'surprise',\n",
       " 'joy',\n",
       " 'love',\n",
       " 'sadness',\n",
       " 'anger',\n",
       " 'fear',\n",
       " 'love',\n",
       " 'joy',\n",
       " 'joy',\n",
       " 'anger',\n",
       " 'joy',\n",
       " 'sadness',\n",
       " 'joy',\n",
       " 'joy',\n",
       " 'joy',\n",
       " 'love',\n",
       " 'joy',\n",
       " 'sadness',\n",
       " 'love',\n",
       " 'fear',\n",
       " 'sadness',\n",
       " 'joy',\n",
       " 'sadness',\n",
       " 'anger',\n",
       " 'joy',\n",
       " 'joy',\n",
       " 'sadness',\n",
       " 'joy',\n",
       " 'love',\n",
       " 'joy',\n",
       " 'joy',\n",
       " 'joy',\n",
       " 'anger',\n",
       " 'fear',\n",
       " 'sadness',\n",
       " 'joy',\n",
       " 'sadness',\n",
       " 'sadness',\n",
       " 'love',\n",
       " 'anger',\n",
       " 'joy',\n",
       " 'love',\n",
       " 'sadness',\n",
       " 'joy',\n",
       " 'fear',\n",
       " 'sadness',\n",
       " 'joy',\n",
       " 'joy',\n",
       " 'sadness',\n",
       " 'sadness',\n",
       " 'love',\n",
       " 'joy',\n",
       " 'sadness',\n",
       " 'sadness',\n",
       " 'sadness',\n",
       " 'sadness',\n",
       " 'anger',\n",
       " 'sadness',\n",
       " 'joy',\n",
       " 'sadness',\n",
       " 'joy',\n",
       " 'sadness',\n",
       " 'love',\n",
       " 'anger',\n",
       " 'joy',\n",
       " 'fear',\n",
       " 'sadness',\n",
       " 'sadness',\n",
       " 'joy',\n",
       " 'joy',\n",
       " 'anger',\n",
       " 'fear',\n",
       " 'love',\n",
       " 'joy',\n",
       " 'sadness',\n",
       " 'anger',\n",
       " 'sadness',\n",
       " 'joy',\n",
       " ...]"
      ]
     },
     "execution_count": 22,
     "metadata": {},
     "output_type": "execute_result"
    }
   ],
   "source": [
    "y"
   ]
  },
  {
   "cell_type": "code",
   "execution_count": 23,
   "metadata": {},
   "outputs": [],
   "source": [
    "from sklearn.preprocessing import LabelBinarizer"
   ]
  },
  {
   "cell_type": "code",
   "execution_count": 24,
   "metadata": {},
   "outputs": [],
   "source": [
    "lb = LabelBinarizer()\n",
    "y_encoded = lb.fit_transform(y)"
   ]
  },
  {
   "cell_type": "code",
   "execution_count": 25,
   "metadata": {},
   "outputs": [
    {
     "data": {
      "text/plain": [
       "array([[0, 0, 0, 0, 1, 0],\n",
       "       [0, 0, 0, 0, 1, 0],\n",
       "       [1, 0, 0, 0, 0, 0],\n",
       "       ...,\n",
       "       [0, 0, 1, 0, 0, 0],\n",
       "       [0, 0, 1, 0, 0, 0],\n",
       "       [0, 0, 1, 0, 0, 0]])"
      ]
     },
     "execution_count": 25,
     "metadata": {},
     "output_type": "execute_result"
    }
   ],
   "source": [
    "y_encoded"
   ]
  },
  {
   "cell_type": "code",
   "execution_count": 26,
   "metadata": {},
   "outputs": [
    {
     "name": "stdout",
     "output_type": "stream",
     "text": [
      "anger: [1, 0, 0, 0, 0, 0]\n",
      "fear: [0, 1, 0, 0, 0, 0]\n",
      "joy: [0, 0, 1, 0, 0, 0]\n",
      "love: [0, 0, 0, 1, 0, 0]\n",
      "sadness: [0, 0, 0, 0, 1, 0]\n",
      "surprise: [0, 0, 0, 0, 0, 1]\n"
     ]
    }
   ],
   "source": [
    "classes = lb.classes_\n",
    "encoded_values = {}\n",
    "\n",
    "# Iterate over each class\n",
    "for i, class_ in enumerate(classes):\n",
    "    # Create a zero array of length equal to the number of classes\n",
    "    encoded_value = [0]*len(classes)\n",
    "    # Set the i-th element to 1\n",
    "    encoded_value[i] = 1\n",
    "    # Add the encoded value to the dictionary\n",
    "    encoded_values[class_] = encoded_value\n",
    "\n",
    "# Print the classes with their encoded values\n",
    "for class_, encoded_value in encoded_values.items():\n",
    "    print(f\"{class_}: {encoded_value}\")\n"
   ]
  },
  {
   "cell_type": "code",
   "execution_count": 27,
   "metadata": {},
   "outputs": [],
   "source": [
    "from sklearn.model_selection import train_test_split"
   ]
  },
  {
   "cell_type": "code",
   "execution_count": 28,
   "metadata": {},
   "outputs": [],
   "source": [
    "X_train, X_test, y_train, y_test = train_test_split(padded_input_sequences, y_encoded, test_size=0.2, random_state=0)"
   ]
  },
  {
   "cell_type": "code",
   "execution_count": 29,
   "metadata": {},
   "outputs": [
    {
     "data": {
      "text/plain": [
       "array([[   0,    0,    0, ...,    2,   15, 1076],\n",
       "       [   0,    0,    0, ...,    9,  136,  199],\n",
       "       [   0,    0,    0, ...,    3, 6315,  111],\n",
       "       ...,\n",
       "       [   0,    0,    0, ...,  321,   24,   74],\n",
       "       [   0,    0,    0, ...,    2, 5680,  602],\n",
       "       [   0,    0,    0, ..., 1315,   96, 1210]])"
      ]
     },
     "execution_count": 29,
     "metadata": {},
     "output_type": "execute_result"
    }
   ],
   "source": [
    "X_train"
   ]
  },
  {
   "cell_type": "code",
   "execution_count": 31,
   "metadata": {},
   "outputs": [
    {
     "data": {
      "text/plain": [
       "array([[0, 1, 0, 0, 0, 0],\n",
       "       [0, 0, 1, 0, 0, 0],\n",
       "       [0, 0, 0, 1, 0, 0],\n",
       "       ...,\n",
       "       [0, 0, 0, 0, 1, 0],\n",
       "       [0, 0, 0, 0, 1, 0],\n",
       "       [1, 0, 0, 0, 0, 0]])"
      ]
     },
     "execution_count": 31,
     "metadata": {},
     "output_type": "execute_result"
    }
   ],
   "source": [
    "y_test"
   ]
  },
  {
   "cell_type": "markdown",
   "metadata": {},
   "source": [
    "## Model Building"
   ]
  },
  {
   "cell_type": "code",
   "execution_count": 32,
   "metadata": {},
   "outputs": [],
   "source": [
    "from tensorflow import keras\n",
    "from tensorflow.keras.layers import *\n",
    "from keras import Sequential"
   ]
  },
  {
   "cell_type": "code",
   "execution_count": 61,
   "metadata": {},
   "outputs": [],
   "source": [
    "model2 = Sequential()"
   ]
  },
  {
   "cell_type": "code",
   "execution_count": 62,
   "metadata": {},
   "outputs": [],
   "source": [
    "model2.add(Embedding(wordcount,100,input_length=max_len_seq))\n",
    "model2.add(LSTM(256,return_sequences=False))\n",
    "model2.add(Dense(6,activation ='softmax'))"
   ]
  },
  {
   "cell_type": "code",
   "execution_count": 63,
   "metadata": {},
   "outputs": [],
   "source": [
    "model2.compile(loss='categorical_crossentropy',optimizer='adam',metrics=['accuracy'])"
   ]
  },
  {
   "cell_type": "code",
   "execution_count": 64,
   "metadata": {},
   "outputs": [
    {
     "name": "stdout",
     "output_type": "stream",
     "text": [
      "Model: \"sequential_3\"\n",
      "_________________________________________________________________\n",
      " Layer (type)                Output Shape              Param #   \n",
      "=================================================================\n",
      " embedding_3 (Embedding)     (None, 66, 100)           1709600   \n",
      "                                                                 \n",
      " lstm_3 (LSTM)               (None, 256)               365568    \n",
      "                                                                 \n",
      " dense_3 (Dense)             (None, 6)                 1542      \n",
      "                                                                 \n",
      "=================================================================\n",
      "Total params: 2,076,710\n",
      "Trainable params: 2,076,710\n",
      "Non-trainable params: 0\n",
      "_________________________________________________________________\n"
     ]
    }
   ],
   "source": [
    "model2.summary()"
   ]
  },
  {
   "cell_type": "code",
   "execution_count": 65,
   "metadata": {},
   "outputs": [
    {
     "name": "stdout",
     "output_type": "stream",
     "text": [
      "Epoch 1/10\n",
      "500/500 [==============================] - 21s 33ms/step - loss: 1.0716 - accuracy: 0.6003 - val_loss: 0.3719 - val_accuracy: 0.8860\n",
      "Epoch 2/10\n",
      "500/500 [==============================] - 15s 30ms/step - loss: 0.2062 - accuracy: 0.9278 - val_loss: 0.2422 - val_accuracy: 0.9090\n",
      "Epoch 3/10\n",
      "500/500 [==============================] - 15s 31ms/step - loss: 0.0961 - accuracy: 0.9623 - val_loss: 0.1926 - val_accuracy: 0.9300\n",
      "Epoch 4/10\n",
      "500/500 [==============================] - 15s 31ms/step - loss: 0.0733 - accuracy: 0.9727 - val_loss: 0.2609 - val_accuracy: 0.9075\n",
      "Epoch 5/10\n",
      "500/500 [==============================] - 15s 31ms/step - loss: 0.0495 - accuracy: 0.9805 - val_loss: 0.2079 - val_accuracy: 0.9283\n",
      "Epoch 6/10\n",
      "500/500 [==============================] - 15s 31ms/step - loss: 0.0434 - accuracy: 0.9843 - val_loss: 0.3028 - val_accuracy: 0.9115\n",
      "Epoch 7/10\n",
      "500/500 [==============================] - 16s 31ms/step - loss: 0.0385 - accuracy: 0.9865 - val_loss: 0.2552 - val_accuracy: 0.9240\n",
      "Epoch 8/10\n",
      "500/500 [==============================] - 15s 31ms/step - loss: 0.0284 - accuracy: 0.9891 - val_loss: 0.2486 - val_accuracy: 0.9258\n",
      "Epoch 9/10\n",
      "500/500 [==============================] - 15s 30ms/step - loss: 0.0266 - accuracy: 0.9907 - val_loss: 0.2728 - val_accuracy: 0.9262\n",
      "Epoch 10/10\n",
      "500/500 [==============================] - 15s 30ms/step - loss: 0.0232 - accuracy: 0.9909 - val_loss: 0.3100 - val_accuracy: 0.9172\n"
     ]
    },
    {
     "data": {
      "text/plain": [
       "<keras.callbacks.History at 0x1da16dfffa0>"
      ]
     },
     "execution_count": 65,
     "metadata": {},
     "output_type": "execute_result"
    }
   ],
   "source": [
    "model2.fit(X_train,y_train,validation_data=(X_test,y_test),epochs=10)"
   ]
  },
  {
   "cell_type": "code",
   "execution_count": 66,
   "metadata": {},
   "outputs": [
    {
     "data": {
      "text/plain": [
       "[array([[-0.02241205, -0.10538926, -0.00266965, ..., -0.0072569 ,\n",
       "         -0.02245034,  0.06024787],\n",
       "        [-0.01302165, -0.05655713, -0.01811965, ...,  0.00510848,\n",
       "         -0.02255178,  0.04409413],\n",
       "        [ 0.03788561,  0.18791129,  0.18736021, ..., -0.23966551,\n",
       "         -0.07704093,  0.00518413],\n",
       "        ...,\n",
       "        [-0.04599478, -0.05542123, -0.04630131, ...,  0.0316685 ,\n",
       "          0.03048676,  0.00444342],\n",
       "        [ 0.06188244,  0.04421679, -0.03339681, ..., -0.01806852,\n",
       "         -0.02237403, -0.04039693],\n",
       "        [-0.05775288, -0.05470374, -0.09006692, ...,  0.02941612,\n",
       "          0.04973684,  0.04672414]], dtype=float32),\n",
       " array([[ 0.15836257,  0.01868872, -0.13971521, ..., -0.29237318,\n",
       "         -0.21777058,  0.1529217 ],\n",
       "        [ 0.24276611, -0.1154795 ,  0.06766376, ..., -0.00191237,\n",
       "         -0.29320788,  0.19110702],\n",
       "        [-0.02998305, -0.04773743, -0.09562191, ..., -0.1906846 ,\n",
       "         -0.03589531, -0.17498167],\n",
       "        ...,\n",
       "        [ 0.03242052, -0.00476259,  0.14506435, ...,  0.20371456,\n",
       "          0.08154666,  0.26964736],\n",
       "        [ 0.11760317, -0.05016669,  0.04538471, ...,  0.05986184,\n",
       "         -0.16040626,  0.20959009],\n",
       "        [-0.21313456, -0.09973758, -0.07633885, ...,  0.11175778,\n",
       "          0.06540874, -0.10492592]], dtype=float32),\n",
       " array([[ 4.2699140e-02,  1.0483742e-01,  1.4345361e-01, ...,\n",
       "          4.6027109e-02,  1.4020242e-01,  5.6117538e-02],\n",
       "        [-6.8967931e-02,  2.4885986e-02, -1.5578177e-02, ...,\n",
       "          6.6580293e-03, -2.9154867e-02,  1.8212857e-02],\n",
       "        [ 3.6964472e-02,  1.1352393e-01, -7.5773329e-02, ...,\n",
       "         -4.7715757e-02,  6.6702977e-02,  6.4374355e-05],\n",
       "        ...,\n",
       "        [-7.4355349e-02,  1.6015197e-01, -1.2640163e-02, ...,\n",
       "         -5.9833918e-02, -4.9216221e-03,  1.7165296e-02],\n",
       "        [ 4.7521546e-02,  5.1191412e-02, -3.2651734e-02, ...,\n",
       "          2.2482211e-02,  2.2769190e-02,  3.3998583e-02],\n",
       "        [ 7.2470326e-03, -7.8553237e-02,  3.4760334e-02, ...,\n",
       "          1.0516772e-01,  4.5864742e-02,  7.4058205e-02]], dtype=float32),\n",
       " array([-0.18203273, -0.10420358, -0.17053056, ..., -0.08459679,\n",
       "        -0.08029595, -0.04555984], dtype=float32),\n",
       " array([[ 0.12721907, -0.19165614, -0.298398  ,  0.0612631 ,  0.02916647,\n",
       "          0.1153044 ],\n",
       "        [-0.05515857, -0.12782812,  0.11106703,  0.26717368, -0.33665895,\n",
       "         -0.00628036],\n",
       "        [ 0.21423677, -0.04434523,  0.1932607 , -0.17081481, -0.1865282 ,\n",
       "         -0.20597646],\n",
       "        ...,\n",
       "        [-0.0946032 , -0.12443102, -0.09087651,  0.35164398, -0.08982306,\n",
       "         -0.20800279],\n",
       "        [-0.18753576,  0.12685028, -0.00060681, -0.13476594, -0.23093925,\n",
       "          0.2688767 ],\n",
       "        [ 0.11091247,  0.09380008, -0.32256994, -0.00437618, -0.06108813,\n",
       "          0.06483611]], dtype=float32),\n",
       " array([-0.03146487, -0.03615727,  0.11138344, -0.07527756,  0.08859724,\n",
       "        -0.14819312], dtype=float32)]"
      ]
     },
     "execution_count": 66,
     "metadata": {},
     "output_type": "execute_result"
    }
   ],
   "source": [
    "model2.get_weights()"
   ]
  },
  {
   "cell_type": "code",
   "execution_count": 169,
   "metadata": {},
   "outputs": [],
   "source": [
    "text = 'i feel as confused about life as a teenager or as jaded as a year old man'"
   ]
  },
  {
   "cell_type": "code",
   "execution_count": 170,
   "metadata": {},
   "outputs": [],
   "source": [
    "text=tokenizer.texts_to_sequences([text])"
   ]
  },
  {
   "cell_type": "code",
   "execution_count": 171,
   "metadata": {},
   "outputs": [
    {
     "data": {
      "text/plain": [
       "[[1, 2, 28, 455, 26, 77, 28, 6, 1951, 34, 28, 814, 28, 6, 193, 274, 367]]"
      ]
     },
     "execution_count": 171,
     "metadata": {},
     "output_type": "execute_result"
    }
   ],
   "source": [
    "text"
   ]
  },
  {
   "cell_type": "code",
   "execution_count": 172,
   "metadata": {},
   "outputs": [],
   "source": [
    "text_padded = pad_sequences(text, maxlen = 66, padding='pre')"
   ]
  },
  {
   "cell_type": "code",
   "execution_count": 173,
   "metadata": {},
   "outputs": [
    {
     "data": {
      "text/plain": [
       "array([[   0,    0,    0,    0,    0,    0,    0,    0,    0,    0,    0,\n",
       "           0,    0,    0,    0,    0,    0,    0,    0,    0,    0,    0,\n",
       "           0,    0,    0,    0,    0,    0,    0,    0,    0,    0,    0,\n",
       "           0,    0,    0,    0,    0,    0,    0,    0,    0,    0,    0,\n",
       "           0,    0,    0,    0,    0,    1,    2,   28,  455,   26,   77,\n",
       "          28,    6, 1951,   34,   28,  814,   28,    6,  193,  274,  367]])"
      ]
     },
     "execution_count": 173,
     "metadata": {},
     "output_type": "execute_result"
    }
   ],
   "source": [
    "text_padded"
   ]
  },
  {
   "cell_type": "code",
   "execution_count": 174,
   "metadata": {},
   "outputs": [
    {
     "name": "stdout",
     "output_type": "stream",
     "text": [
      "1/1 [==============================] - 0s 58ms/step\n"
     ]
    }
   ],
   "source": [
    "predict =model2.predict(text_padded)"
   ]
  },
  {
   "cell_type": "code",
   "execution_count": 175,
   "metadata": {},
   "outputs": [
    {
     "data": {
      "text/plain": [
       "array([[1.1363653e-05, 9.9582714e-01, 2.3602861e-06, 6.6662034e-07,\n",
       "        4.1207997e-03, 3.7688988e-05]], dtype=float32)"
      ]
     },
     "execution_count": 175,
     "metadata": {},
     "output_type": "execute_result"
    }
   ],
   "source": [
    "predict"
   ]
  },
  {
   "cell_type": "code",
   "execution_count": 176,
   "metadata": {},
   "outputs": [],
   "source": [
    "arg=np.argmax(predict[0])+1\n"
   ]
  },
  {
   "cell_type": "code",
   "execution_count": 177,
   "metadata": {},
   "outputs": [
    {
     "data": {
      "text/plain": [
       "2"
      ]
     },
     "execution_count": 177,
     "metadata": {},
     "output_type": "execute_result"
    }
   ],
   "source": [
    "arg"
   ]
  },
  {
   "cell_type": "code",
   "execution_count": 178,
   "metadata": {},
   "outputs": [],
   "source": [
    "labels = {'anger': 1,\n",
    "'fear': 2,\n",
    "'joy': 3,\n",
    "'love': 4,\n",
    "'sadness': 5,\n",
    "'surprise': 6}"
   ]
  },
  {
   "cell_type": "code",
   "execution_count": 179,
   "metadata": {},
   "outputs": [
    {
     "name": "stdout",
     "output_type": "stream",
     "text": [
      "fear\n"
     ]
    }
   ],
   "source": [
    "for key in labels:\n",
    "    if labels[key]==arg:\n",
    "        print (key)"
   ]
  },
  {
   "cell_type": "code",
   "execution_count": 119,
   "metadata": {},
   "outputs": [],
   "source": [
    "model2.save_weights('emotion.weight.h5')"
   ]
  },
  {
   "cell_type": "code",
   "execution_count": 120,
   "metadata": {},
   "outputs": [],
   "source": [
    "weight= model2.get_weights()"
   ]
  },
  {
   "cell_type": "code",
   "execution_count": 123,
   "metadata": {},
   "outputs": [],
   "source": [
    "import pickle"
   ]
  },
  {
   "cell_type": "code",
   "execution_count": 180,
   "metadata": {},
   "outputs": [],
   "source": [
    "with open('weights_emotion.pkl','wb') as f:\n",
    "    pickle.dump(weight,f)"
   ]
  },
  {
   "cell_type": "code",
   "execution_count": null,
   "metadata": {},
   "outputs": [],
   "source": []
  }
 ],
 "metadata": {
  "kernelspec": {
   "display_name": "tensor_flow_env_gpu",
   "language": "python",
   "name": "python3"
  },
  "language_info": {
   "codemirror_mode": {
    "name": "ipython",
    "version": 3
   },
   "file_extension": ".py",
   "mimetype": "text/x-python",
   "name": "python",
   "nbconvert_exporter": "python",
   "pygments_lexer": "ipython3",
   "version": "3.10.14"
  }
 },
 "nbformat": 4,
 "nbformat_minor": 2
}
